{
 "cells": [
  {
   "cell_type": "code",
   "execution_count": null,
   "id": "5f9cd8e6",
   "metadata": {
    "vscode": {
     "languageId": "plaintext"
    }
   },
   "outputs": [],
   "source": [
    "import numpy as np"
   ]
  },
  {
   "cell_type": "code",
   "execution_count": null,
   "id": "03f855d8",
   "metadata": {
    "vscode": {
     "languageId": "plaintext"
    }
   },
   "outputs": [],
   "source": [
    "# Relative path to the .npz file\n",
    "file_path = '../sign-preproc/output/0/0.npz'  # Adjust the path based on current folder structure\n",
    "\n",
    "# Load the .npz file\n",
    "data = np.load(file_path)\n",
    "\n",
    "# View the contents of the .npz file (this lists all keys)\n",
    "print(data.files)"
   ]
  },
  {
   "cell_type": "code",
   "execution_count": null,
   "id": "8f80a11c",
   "metadata": {
    "vscode": {
     "languageId": "plaintext"
    }
   },
   "outputs": [],
   "source": [
    "# Accessing specific arrays from the .npz file\n",
    "X = data['X']  # Keypoint coordinates array (T, 156)\n",
    "mask = data['mask']  # Mask array (T, 78)\n",
    "timestamps = data['timestamps_ms']  # Timestamps (T,)\n",
    "meta = data['meta']  # Metadata (JSON formatted)\n",
    "\n",
    "# Example: Print the shape of X (keypoints) and the first timestamp\n",
    "print(\"Shape of X:\", X.shape)\n",
    "print(\"First timestamp:\", timestamps[0])"
   ]
  },
  {
   "cell_type": "code",
   "execution_count": null,
   "id": "045a5c68",
   "metadata": {
    "vscode": {
     "languageId": "plaintext"
    }
   },
   "outputs": [],
   "source": [
    "import matplotlib.pyplot as plt\n",
    "\n",
    "# Get the first frame's keypoints (X is from the .npz file)\n",
    "frame = X[0]  # First frame\n",
    "x_coords = frame[::2]  # x coordinates (even indices)\n",
    "y_coords = frame[1::2]  # y coordinates (odd indices)\n",
    "\n",
    "# Define keypoint color coding for pose, hands, and face\n",
    "pose_indices = list(range(0, 25))  # Pose keypoints (25)\n",
    "left_hand_indices = list(range(25, 46))  # Left hand (21)\n",
    "right_hand_indices = list(range(46, 67))  # Right hand (21)\n",
    "face_indices = list(range(67, 78))  # Face keypoints (11)\n",
    "\n",
    "# Create a scatter plot with different colors for each set of keypoints\n",
    "plt.scatter(x_coords[pose_indices], y_coords[pose_indices], c='red', label='Pose', marker='o')\n",
    "plt.scatter(x_coords[left_hand_indices], y_coords[left_hand_indices], c='green', label='Left Hand', marker='o')\n",
    "plt.scatter(x_coords[right_hand_indices], y_coords[right_hand_indices], c='orange', label='Right Hand', marker='o')\n",
    "plt.scatter(x_coords[face_indices], y_coords[face_indices], c='blue', label='Face', marker='o')\n",
    "\n",
    "# Add labels and legend\n",
    "plt.title(\"Color-Coded Keypoints for Frame 1\")\n",
    "plt.xlabel(\"X Coordinates\")\n",
    "plt.ylabel(\"Y Coordinates\")\n",
    "plt.legend()\n",
    "\n",
    "# Show the plot\n",
    "plt.show()\n"
   ]
  }
 ],
 "metadata": {
  "language_info": {
   "name": "python"
  }
 },
 "nbformat": 4,
 "nbformat_minor": 5
}
