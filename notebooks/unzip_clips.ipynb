{
 "cells": [
  {
   "cell_type": "markdown",
   "id": "6528316e-a3e0-42f6-ad88-3f9c7d449303",
   "metadata": {},
   "source": [
    "# Download and Extract Video Clips\n",
    "\n",
    "This notebook downloads and extracts video clips from Google Drive for preprocessing."
   ]
  },
  {
   "cell_type": "code",
   "execution_count": null,
   "id": "1dafcf0b-e5a0-455a-bea2-80930914e5b8",
   "metadata": {},
   "outputs": [],
   "source": [
    "# Install required packages\n",
    "%pip install gdown"
   ]
  },
  {
   "cell_type": "code",
   "execution_count": null,
   "id": "0d681d4a-0ae4-419e-8e4d-42b749edeafd",
   "metadata": {},
   "outputs": [],
   "source": [
    "import gdown\n",
    "import os\n",
    "from pathlib import Path\n",
    "\n",
    "# Configuration\n",
    "FILE_ID = '1U9xzaYIUMeXpQFo03tUyJTRwahX88OpJ'\n",
    "OUTPUT_DIR = Path('../data/raw')\n",
    "ZIP_FILE = OUTPUT_DIR / 'clips.zip'\n",
    "\n",
    "# Create output directory\n",
    "OUTPUT_DIR.mkdir(parents=True, exist_ok=True)\n",
    "\n",
    "print(f\"📁 Output directory: {OUTPUT_DIR}\")\n",
    "print(f\"📦 Zip file: {ZIP_FILE}\")"
   ]
  },
  {
   "cell_type": "code",
   "execution_count": null,
   "id": "3993e5c0-a982-4fe9-a2bb-d8cc99f78467",
   "metadata": {},
   "outputs": [],
   "source": [
    "# Download video clips from Google Drive\n",
    "print(\"📥 Downloading video clips...\")\n",
    "gdown_url = f'https://drive.google.com/uc?id={FILE_ID}'\n",
    "gdown.download(gdown_url, str(ZIP_FILE), quiet=False)\n",
    "print(\"✅ Download completed!\")"
   ]
  },
  {
   "cell_type": "code",
   "execution_count": null,
   "id": "4f8e5cfd-488c-4d3c-9211-217e978d4a6c",
   "metadata": {},
   "outputs": [],
   "source": [
    "# Extract video clips\n",
    "print(\"📂 Extracting video clips...\")\n",
    "import zipfile\n",
    "\n",
    "with zipfile.ZipFile(ZIP_FILE, 'r') as zip_ref:\n",
    "    zip_ref.extractall(OUTPUT_DIR)\n",
    "\n",
    "print(\"✅ Extraction completed!\")\n",
    "\n",
    "# Clean up zip file\n",
    "ZIP_FILE.unlink()\n",
    "print(\"🗑️ Cleaned up zip file\")\n",
    "\n",
    "# Count extracted videos before renaming\n",
    "clips_dir = OUTPUT_DIR / \"clips\"\n",
    "if clips_dir.exists():\n",
    "    video_files = (list(clips_dir.rglob(\"*.mp4\")) + list(clips_dir.rglob(\"*.mov\")) + \n",
    "                   list(clips_dir.rglob(\"*.MP4\")) + list(clips_dir.rglob(\"*.MOV\")))\n",
    "    print(f\"📹 Found {len(video_files)} video files in clips/\")\n",
    "else:\n",
    "    print(\"❌ No clips directory found!\")\n",
    "    video_files = []"
   ]
  },
  {
   "cell_type": "code",
   "execution_count": null,
   "id": "45df274f-5c50-49b0-be8e-fc86df5954bc",
   "metadata": {},
   "outputs": [],
   "source": [
    "# Rename and flatten clips using rename_clips.py\n",
    "if video_files and clips_dir.exists():\n",
    "    print(\"\\n🔄 Renaming and flattening clips...\")\n",
    "    \n",
    "    # Copy labels.csv if it doesn't exist\n",
    "    labels_source = Path(\"../shared/keypoints_all/labels.csv\")\n",
    "    labels_dest = OUTPUT_DIR / \"labels.csv\"\n",
    "    if labels_source.exists() and not labels_dest.exists():\n",
    "        import shutil\n",
    "        shutil.copy2(labels_source, labels_dest)\n",
    "        print(f\"📋 Copied labels.csv to {labels_dest}\")\n",
    "    \n",
    "    try:\n",
    "        import subprocess\n",
    "        import sys\n",
    "        \n",
    "        # Run rename_clips.py\n",
    "        result = subprocess.run([\n",
    "            sys.executable, \"../preprocessing/rename_clips.py\", \n",
    "            \"--root\", \"..\"\n",
    "        ], capture_output=True, text=True)\n",
    "        \n",
    "        if result.returncode == 0:\n",
    "            print(\"✅ Clips renamed successfully!\")\n",
    "            \n",
    "            # Count renamed videos\n",
    "            renamed_videos = (list(OUTPUT_DIR.glob(\"*.mp4\")) + list(OUTPUT_DIR.glob(\"*.mov\")) + \n",
    "                             list(OUTPUT_DIR.glob(\"*.MP4\")) + list(OUTPUT_DIR.glob(\"*.MOV\")))\n",
    "            print(f\"📹 Renamed {len(renamed_videos)} video files\")\n",
    "            \n",
    "            # Show sample renamed files\n",
    "            if renamed_videos:\n",
    "                print(\"\\n📄 Sample renamed files:\")\n",
    "                for i, video in enumerate(renamed_videos[:5]):\n",
    "                    file_size = video.stat().st_size / (1024 * 1024)  # MB\n",
    "                    print(f\"  {i+1}. {video.name} ({file_size:.1f} MB)\")\n",
    "                if len(renamed_videos) > 5:\n",
    "                    print(f\"  ... and {len(renamed_videos) - 5} more\")\n",
    "        else:\n",
    "            print(f\"❌ Rename failed: {result.stderr}\")\n",
    "            \n",
    "    except Exception as e:\n",
    "        print(f\"❌ Error running rename_clips: {e}\")\n",
    "        print(\"📁 Videos remain in clips/ directory\")\n",
    "else:\n",
    "    print(\"❌ No video files found to rename!\")"
   ]
  },
  {
   "cell_type": "code",
   "execution_count": null,
   "id": "d613061a-2689-4124-9d59-aaad06c45397",
   "metadata": {},
   "outputs": [],
   "source": [
    "# Final status and next steps\n",
    "print(\"\\n✅ Setup complete!\")\n",
    "print(f\"📁 Videos location: {OUTPUT_DIR}\")\n",
    "\n",
    "# Check final video count\n",
    "final_videos = (list(OUTPUT_DIR.glob(\"*.mp4\")) + list(OUTPUT_DIR.glob(\"*.mov\")) + \n",
    "                list(OUTPUT_DIR.glob(\"*.MP4\")) + list(OUTPUT_DIR.glob(\"*.MOV\")))\n",
    "if final_videos:\n",
    "    print(f\"📹 Total videos ready: {len(final_videos)}\")\n",
    "    print(\"\\n🚀 Next steps:\")\n",
    "    print(\"1. Run vast_ai_setup.ipynb to set up the project\")\n",
    "    print(\"2. Run run_multi_preprocess.ipynb to process videos\")\n",
    "    print(\"3. Use the processed data for training\")\n",
    "else:\n",
    "    print(\"❌ No videos found in final location!\")\n"
   ]
  }
 ],
 "metadata": {
  "kernelspec": {
   "display_name": "Python3 (ipykernel)",
   "language": "python",
   "name": "python3"
  },
  "language_info": {
   "codemirror_mode": {
    "name": "ipython",
    "version": 3
   },
   "file_extension": ".py",
   "mimetype": "text/x-python",
   "name": "python",
   "nbconvert_exporter": "python",
   "pygments_lexer": "ipython3",
   "version": "3.12.11"
  }
 },
 "nbformat": 4,
 "nbformat_minor": 5
}
