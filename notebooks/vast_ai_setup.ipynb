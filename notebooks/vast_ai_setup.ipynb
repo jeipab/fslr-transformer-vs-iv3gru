{
 "cells": [
  {
   "cell_type": "markdown",
   "metadata": {},
   "source": [
    "# Vast.ai Project Setup\n",
    "\n",
    "**Quick setup for FSLR preprocessing on Vast.ai**\n",
    "\n",
    "## Folder Structure:\n",
    "```\n",
    "/workspace/\n",
    "├── fslr-transformer-vs-iv3gru/     # Project code\n",
    "├── data/\n",
    "│   ├── raw/                        # Upload videos here\n",
    "│   └── processed/                  # Output here\n",
    "```\n"
   ]
  },
  {
   "cell_type": "code",
   "execution_count": null,
   "metadata": {},
   "outputs": [],
   "source": "import subprocess\nimport sys\nimport os\nfrom pathlib import Path\n\n# Create virtual environment\nvenv_path = Path(\"/workspace/venv\")\nif not venv_path.exists():\n    print(\"Creating virtual environment...\")\n    subprocess.run([sys.executable, \"-m\", \"venv\", str(venv_path)], check=True)\n    print(\"✅ Virtual environment created\")\nelse:\n    print(\"Virtual environment already exists\")\n\n# Activate virtual environment by updating the Python executable path\nif os.name == 'nt':  # Windows\n    python_exe = venv_path / \"Scripts\" / \"python.exe\"\n    pip_exe = venv_path / \"Scripts\" / \"pip.exe\"\nelse:  # Linux/Unix (Vast.ai uses Linux)\n    python_exe = venv_path / \"bin\" / \"python\"\n    pip_exe = venv_path / \"bin\" / \"pip\"\n\nprint(f\"Using Python: {python_exe}\")\n\n# Clone repository if not exists\nproject_root = Path(\"/workspace/fslr-transformer-vs-iv3gru\")\nif not project_root.exists():\n    print(\"Cloning repository...\")\n    subprocess.run([\"git\", \"clone\", \"https://github.com/jeipab/fslr-transformer-vs-iv3gru.git\", str(project_root)], check=True)\nelse:\n    print(\"Repository already exists, updating...\")\n    subprocess.run([\"git\", \"-C\", str(project_root), \"pull\"], check=True)\n\n# Add project to Python path\nsys.path.insert(0, str(project_root))\n\n# Install dependencies using virtual environment pip\nprint(\"Installing dependencies in virtual environment...\")\nsubprocess.run([str(pip_exe), \"install\", \"-r\", str(project_root / \"requirements.txt\")], check=True)\n\nprint(\"✅ Setup complete!\")\nprint(f\"📁 Project: {project_root}\")\nprint(f\"🐍 Virtual environment: {venv_path}\")\nprint(f\"📁 Upload videos to: {project_root}/data/raw/\")\nprint(f\"📁 Output will go to: {project_root}/data/processed/\")\nprint(\"\\n🚀 Next: Run run_multi_preprocess.ipynb\")\nprint(f\"\\n💡 To use this environment in other notebooks, restart kernel and run:\")\nprint(f\"   import sys; sys.executable = '{python_exe}'\")"
  }
 ],
 "metadata": {
  "language_info": {
   "name": "python"
  }
 },
 "nbformat": 4,
 "nbformat_minor": 2
}