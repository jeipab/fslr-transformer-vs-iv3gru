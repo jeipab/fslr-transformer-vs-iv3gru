{
  "cells": [
    {
      "cell_type": "markdown",
      "metadata": {},
      "source": [
        "# Vast.ai Project Setup\n",
        "\n",
        "**Quick setup for FSLR preprocessing on Vast.ai**\n",
        "\n",
        "## Folder Structure\n",
        "```\n",
        "/workspace/\n",
        "├── fslr-transformer-vs-iv3gru/     # Project code\n",
        "├── data/\n",
        "│   ├── raw/                        # Upload videos here\n",
        "│   └── processed/                  # Output here\n",
        "```\n"
      ]
    },
    {
      "cell_type": "code",
      "execution_count": null,
      "metadata": {},
      "outputs": [],
      "source": [
        "import subprocess\n",
        "import sys\n",
        "from pathlib import Path\n",
        "\n",
        "# Clone repository if not exists\n",
        "project_root = Path(\"/workspace/fslr-transformer-vs-iv3gru\")\n",
        "if not project_root.exists():\n",
        "    print(\"Cloning repository...\")\n",
        "    subprocess.run([\"git\", \"clone\", \"https://github.com/jeipab/fslr-transformer-vs-iv3gru.git\", str(project_root)], check=True)\n",
        "else:\n",
        "    print(\"Repository already exists, updating...\")\n",
        "    subprocess.run([\"git\", \"-C\", str(project_root), \"pull\"], check=True)\n",
        "\n",
        "sys.path.insert(0, str(project_root))\n",
        "\n",
        "# Install dependencies\n",
        "print(\"Installing dependencies...\")\n",
        "subprocess.run([sys.executable, \"-m\", \"pip\", \"install\", \"-r\", str(project_root / \"requirements.txt\")], check=True)\n",
        "\n",
        "print(\"✅ Setup complete!\")\n",
        "print(f\"📁 Project: {project_root}\")\n",
        "print(f\"📁 Upload videos to: {project_root}/data/raw/\")\n",
        "print(f\"📁 Output will go to: {project_root}/data/processed/\")\n",
        "print(\"\\n🚀 Next: Run run_multi_preprocess.ipynb\")\n"
      ]
    }
  ],
  "metadata": {
    "language_info": {
      "name": "python"
    }
  },
  "nbformat": 4,
  "nbformat_minor": 2
}
